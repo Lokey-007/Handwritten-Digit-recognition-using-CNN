{
 "cells": [
  {
   "cell_type": "markdown",
   "id": "21b67d29-6980-4962-8460-730e67aadf0a",
   "metadata": {},
   "source": [
    "## Importing Necessary Libreries"
   ]
  },
  {
   "cell_type": "code",
   "execution_count": 1,
   "id": "29bd5e39-2217-4177-bed6-69d3c8ce9f51",
   "metadata": {},
   "outputs": [],
   "source": [
    "import tensorflow as tf\n",
    "from tensorflow import keras\n",
    "import matplotlib.pyplot as plt\n",
    "%matplotlib inline\n",
    "import numpy as np\n",
    "import warnings \n",
    "warnings.filterwarnings(\"ignore\")"
   ]
  },
  {
   "cell_type": "code",
   "execution_count": 2,
   "id": "4d547e20-9371-4008-bbb8-c4d42cfee8bf",
   "metadata": {},
   "outputs": [],
   "source": [
    "(X_train , Y_train),(X_test,Y_test) = keras.datasets.mnist.load_data()"
   ]
  },
  {
   "cell_type": "code",
   "execution_count": 3,
   "id": "c27b7fa1-60d7-4c0e-8353-b0e9ac2d9713",
   "metadata": {},
   "outputs": [],
   "source": [
    "# Normalize the pixel values to the range [0, 1]\n",
    "X_train = X_train.astype('float32')/255.0\n",
    "X_test = X_test.astype('float32') / 255.0\n"
   ]
  },
  {
   "cell_type": "code",
   "execution_count": 4,
   "id": "b9c5e6aa-3190-4b31-9482-d66b5b1b926e",
   "metadata": {},
   "outputs": [],
   "source": [
    "Y_train = tf.keras.utils.to_categorical(Y_train, 10)\n",
    "Y_test = tf.keras.utils.to_categorical(Y_test, 10)"
   ]
  },
  {
   "cell_type": "code",
   "execution_count": 5,
   "id": "cb0712d5-7efe-4c6a-924c-f63213c41b1b",
   "metadata": {},
   "outputs": [
    {
     "data": {
      "text/plain": [
       "60000"
      ]
     },
     "execution_count": 5,
     "metadata": {},
     "output_type": "execute_result"
    }
   ],
   "source": [
    "len(X_train)"
   ]
  },
  {
   "cell_type": "code",
   "execution_count": 6,
   "id": "12f9a083-8181-46f0-af75-f9682c5ca96f",
   "metadata": {
    "scrolled": true
   },
   "outputs": [
    {
     "data": {
      "text/plain": [
       "array([[[0., 0., 0., ..., 0., 0., 0.],\n",
       "        [0., 0., 0., ..., 0., 0., 0.],\n",
       "        [0., 0., 0., ..., 0., 0., 0.],\n",
       "        ...,\n",
       "        [0., 0., 0., ..., 0., 0., 0.],\n",
       "        [0., 0., 0., ..., 0., 0., 0.],\n",
       "        [0., 0., 0., ..., 0., 0., 0.]],\n",
       "\n",
       "       [[0., 0., 0., ..., 0., 0., 0.],\n",
       "        [0., 0., 0., ..., 0., 0., 0.],\n",
       "        [0., 0., 0., ..., 0., 0., 0.],\n",
       "        ...,\n",
       "        [0., 0., 0., ..., 0., 0., 0.],\n",
       "        [0., 0., 0., ..., 0., 0., 0.],\n",
       "        [0., 0., 0., ..., 0., 0., 0.]],\n",
       "\n",
       "       [[0., 0., 0., ..., 0., 0., 0.],\n",
       "        [0., 0., 0., ..., 0., 0., 0.],\n",
       "        [0., 0., 0., ..., 0., 0., 0.],\n",
       "        ...,\n",
       "        [0., 0., 0., ..., 0., 0., 0.],\n",
       "        [0., 0., 0., ..., 0., 0., 0.],\n",
       "        [0., 0., 0., ..., 0., 0., 0.]],\n",
       "\n",
       "       ...,\n",
       "\n",
       "       [[0., 0., 0., ..., 0., 0., 0.],\n",
       "        [0., 0., 0., ..., 0., 0., 0.],\n",
       "        [0., 0., 0., ..., 0., 0., 0.],\n",
       "        ...,\n",
       "        [0., 0., 0., ..., 0., 0., 0.],\n",
       "        [0., 0., 0., ..., 0., 0., 0.],\n",
       "        [0., 0., 0., ..., 0., 0., 0.]],\n",
       "\n",
       "       [[0., 0., 0., ..., 0., 0., 0.],\n",
       "        [0., 0., 0., ..., 0., 0., 0.],\n",
       "        [0., 0., 0., ..., 0., 0., 0.],\n",
       "        ...,\n",
       "        [0., 0., 0., ..., 0., 0., 0.],\n",
       "        [0., 0., 0., ..., 0., 0., 0.],\n",
       "        [0., 0., 0., ..., 0., 0., 0.]],\n",
       "\n",
       "       [[0., 0., 0., ..., 0., 0., 0.],\n",
       "        [0., 0., 0., ..., 0., 0., 0.],\n",
       "        [0., 0., 0., ..., 0., 0., 0.],\n",
       "        ...,\n",
       "        [0., 0., 0., ..., 0., 0., 0.],\n",
       "        [0., 0., 0., ..., 0., 0., 0.],\n",
       "        [0., 0., 0., ..., 0., 0., 0.]]], dtype=float32)"
      ]
     },
     "execution_count": 6,
     "metadata": {},
     "output_type": "execute_result"
    }
   ],
   "source": [
    "X_train"
   ]
  },
  {
   "cell_type": "code",
   "execution_count": 7,
   "id": "7454f9a5-642b-4b06-b34b-57e8d2aa66c1",
   "metadata": {},
   "outputs": [
    {
     "data": {
      "text/plain": [
       "(28, 28)"
      ]
     },
     "execution_count": 7,
     "metadata": {},
     "output_type": "execute_result"
    }
   ],
   "source": [
    "X_train[0].shape"
   ]
  },
  {
   "cell_type": "code",
   "execution_count": 8,
   "id": "34922472-b989-4ebd-967a-689438c0d8ed",
   "metadata": {},
   "outputs": [
    {
     "data": {
      "text/plain": [
       "(28, 28)"
      ]
     },
     "execution_count": 8,
     "metadata": {},
     "output_type": "execute_result"
    }
   ],
   "source": [
    "X_test[0].shape"
   ]
  },
  {
   "cell_type": "code",
   "execution_count": 9,
   "id": "3f968416-ee21-45c5-9c49-b99e76c828b8",
   "metadata": {},
   "outputs": [
    {
     "data": {
      "text/plain": [
       "<matplotlib.image.AxesImage at 0x170517bf010>"
      ]
     },
     "execution_count": 9,
     "metadata": {},
     "output_type": "execute_result"
    },
    {
     "data": {
      "image/png": "[encoded data removed]",
      "text/plain": [
       "<Figure size 480x480 with 1 Axes>"
      ]
     },
     "metadata": {},
     "output_type": "display_data"
    }
   ],
   "source": [
    "plt.matshow(X_train[3])"
   ]
  },
  {
   "cell_type": "code",
   "execution_count": 10,
   "id": "582711ad-2102-461b-ae82-d1ad32c5b24d",
   "metadata": {},
   "outputs": [],
   "source": [
    "cnn = tf.keras.models.Sequential()"
   ]
  },
  {
   "cell_type": "code",
   "execution_count": 11,
   "id": "f40c743c-9ae5-4378-8753-07b5660049aa",
   "metadata": {},
   "outputs": [],
   "source": [
    "cnn.add(tf.keras.layers.Conv2D(filters=32,kernel_size=3,activation='relu',input_shape=(28, 28, 1)))"
   ]
  },
  {
   "cell_type": "code",
   "execution_count": 12,
   "id": "55cd8aab-18d1-4661-a0f3-a4d83427eb8a",
   "metadata": {},
   "outputs": [],
   "source": [
    "cnn.add(tf.keras.layers.MaxPool2D(pool_size=2,strides=2))"
   ]
  },
  {
   "cell_type": "code",
   "execution_count": 13,
   "id": "9d53a961-ac8a-40b1-8168-7821a2e2b1f6",
   "metadata": {},
   "outputs": [],
   "source": [
    "cnn.add(tf.keras.layers.Conv2D(filters=64,kernel_size=3,activation='relu'))"
   ]
  },
  {
   "cell_type": "code",
   "execution_count": 14,
   "id": "edab96ce-0a1d-4dfa-b4b1-e9cf5df81e46",
   "metadata": {},
   "outputs": [],
   "source": [
    "cnn.add(tf.keras.layers.MaxPool2D(pool_size=2,strides=2))"
   ]
  },
  {
   "cell_type": "code",
   "execution_count": 15,
   "id": "57e0d4b0-db0c-4b3b-a04b-0f2cd80fa37c",
   "metadata": {},
   "outputs": [],
   "source": [
    "cnn.add(tf.keras.layers.Flatten())"
   ]
  },
  {
   "cell_type": "code",
   "execution_count": 16,
   "id": "8210d91b-cc9b-42d4-9500-6dfbe71067c4",
   "metadata": {},
   "outputs": [],
   "source": [
    "cnn.add(tf.keras.layers.Dense(units=64,activation='relu'))"
   ]
  },
  {
   "cell_type": "code",
   "execution_count": 17,
   "id": "ea6b7033-f4d2-4495-bf6f-41d57b90406c",
   "metadata": {},
   "outputs": [],
   "source": [
    "cnn.add(tf.keras.layers.Dense(units=10,activation='sigmoid'))"
   ]
  },
  {
   "cell_type": "code",
   "execution_count": 18,
   "id": "2953d21e-c9fd-4ada-acb5-18d8f6fb8862",
   "metadata": {},
   "outputs": [],
   "source": [
    "cnn.compile(optimizer='adam',loss='categorical_crossentropy',metrics=['accuracy'])"
   ]
  },
  {
   "cell_type": "code",
   "execution_count": 19,
   "id": "59767af1-8158-4c6a-ab0c-d36f35de12e7",
   "metadata": {},
   "outputs": [
    {
     "name": "stdout",
     "output_type": "stream",
     "text": [
      "Epoch 1/10\n",
      "\u001b[1m1875/1875\u001b[0m \u001b[32m━━━━━━━━━━━━━━━━━━━━\u001b[0m\u001b[37m\u001b[0m \u001b[1m17s\u001b[0m 8ms/step - accuracy: 0.9034 - loss: 0.3155 - val_accuracy: 0.9816 - val_loss: 0.0522\n",
      "Epoch 2/10\n",
      "\u001b[1m1875/1875\u001b[0m \u001b[32m━━━━━━━━━━━━━━━━━━━━\u001b[0m\u001b[37m\u001b[0m \u001b[1m15s\u001b[0m 8ms/step - accuracy: 0.9849 - loss: 0.0491 - val_accuracy: 0.9867 - val_loss: 0.0382\n",
      "Epoch 3/10\n",
      "\u001b[1m1875/1875\u001b[0m \u001b[32m━━━━━━━━━━━━━━━━━━━━\u001b[0m\u001b[37m\u001b[0m \u001b[1m15s\u001b[0m 8ms/step - accuracy: 0.9904 - loss: 0.0307 - val_accuracy: 0.9890 - val_loss: 0.0343\n",
      "Epoch 4/10\n",
      "\u001b[1m1875/1875\u001b[0m \u001b[32m━━━━━━━━━━━━━━━━━━━━\u001b[0m\u001b[37m\u001b[0m \u001b[1m16s\u001b[0m 8ms/step - accuracy: 0.9932 - loss: 0.0216 - val_accuracy: 0.9908 - val_loss: 0.0299\n",
      "Epoch 5/10\n",
      "\u001b[1m1875/1875\u001b[0m \u001b[32m━━━━━━━━━━━━━━━━━━━━\u001b[0m\u001b[37m\u001b[0m \u001b[1m29s\u001b[0m 15ms/step - accuracy: 0.9954 - loss: 0.0160 - val_accuracy: 0.9891 - val_loss: 0.0361\n",
      "Epoch 6/10\n",
      "\u001b[1m1875/1875\u001b[0m \u001b[32m━━━━━━━━━━━━━━━━━━━━\u001b[0m\u001b[37m\u001b[0m \u001b[1m40s\u001b[0m 22ms/step - accuracy: 0.9964 - loss: 0.0116 - val_accuracy: 0.9906 - val_loss: 0.0351\n",
      "Epoch 7/10\n",
      "\u001b[1m1875/1875\u001b[0m \u001b[32m━━━━━━━━━━━━━━━━━━━━\u001b[0m\u001b[37m\u001b[0m \u001b[1m41s\u001b[0m 22ms/step - accuracy: 0.9967 - loss: 0.0095 - val_accuracy: 0.9917 - val_loss: 0.0279\n",
      "Epoch 8/10\n",
      "\u001b[1m1875/1875\u001b[0m \u001b[32m━━━━━━━━━━━━━━━━━━━━\u001b[0m\u001b[37m\u001b[0m \u001b[1m45s\u001b[0m 24ms/step - accuracy: 0.9965 - loss: 0.0105 - val_accuracy: 0.9922 - val_loss: 0.0281\n",
      "Epoch 9/10\n",
      "\u001b[1m1875/1875\u001b[0m \u001b[32m━━━━━━━━━━━━━━━━━━━━\u001b[0m\u001b[37m\u001b[0m \u001b[1m26s\u001b[0m 14ms/step - accuracy: 0.9981 - loss: 0.0065 - val_accuracy: 0.9914 - val_loss: 0.0330\n",
      "Epoch 10/10\n",
      "\u001b[1m1875/1875\u001b[0m \u001b[32m━━━━━━━━━━━━━━━━━━━━\u001b[0m\u001b[37m\u001b[0m \u001b[1m15s\u001b[0m 8ms/step - accuracy: 0.9986 - loss: 0.0046 - val_accuracy: 0.9910 - val_loss: 0.0406\n"
     ]
    }
   ],
   "source": [
    "Model = cnn.fit(X_train,Y_train,epochs=10,validation_data=(X_test,Y_test))"
   ]
  },
  {
   "cell_type": "code",
   "execution_count": 20,
   "id": "588d032d-f68a-418d-ab55-31c2a2097913",
   "metadata": {},
   "outputs": [],
   "source": [
    "import cv2"
   ]
  },
  {
   "cell_type": "code",
   "execution_count": 21,
   "id": "b494a9b9-9508-4d65-bd6e-bce40797b63e",
   "metadata": {
    "scrolled": true
   },
   "outputs": [
    {
     "data": {
      "text/plain": [
       "'import numpy as np\\nfrom keras.preprocessing import image\\nfrom keras.utils import load_img\\nfrom keras.utils import img_to_array\\ntest_image = load_img(\\'images000.png\\',target_size=(64,64))\\ntest_image = image.img_to_array(test_image)\\ngray = cv2.cvtColor(test_image,cv2.COLOR_BGR2GRAY)\\nresized = cv2.resize(gray,(28,28),interpolation=cv2.INTER_AREA)\\nresized = resized.astype(\\'float32\\')/255.0\\nnewimage = np.expand_dims(resized,axis=-1)\\nnewimage = np.expand_dims(newimage,axis=0)\\n#newimage1 = tf.keras.utils.normalize(resized,axis=1)\\n#newimage1 = np.array(newimage1).reshape(-1,28, 28,1)\\n#newimage1.shape\\nresult = cnn.predict(newimage)\\npredicted_class = np.argmax(result)\\nprint(\"predicted digit\",predicted_class)\\nprint(\"prediction probablities:\",result)'"
      ]
     },
     "execution_count": 21,
     "metadata": {},
     "output_type": "execute_result"
    }
   ],
   "source": [
    "'''import numpy as np\n",
    "from keras.preprocessing import image\n",
    "from keras.utils import load_img\n",
    "from keras.utils import img_to_array\n",
    "test_image = load_img('images000.png',target_size=(64,64))\n",
    "test_image = image.img_to_array(test_image)\n",
    "gray = cv2.cvtColor(test_image,cv2.COLOR_BGR2GRAY)\n",
    "resized = cv2.resize(gray,(28,28),interpolation=cv2.INTER_AREA)\n",
    "resized = resized.astype('float32')/255.0\n",
    "newimage = np.expand_dims(resized,axis=-1)\n",
    "newimage = np.expand_dims(newimage,axis=0)\n",
    "#newimage1 = tf.keras.utils.normalize(resized,axis=1)\n",
    "#newimage1 = np.array(newimage1).reshape(-1,28, 28,1)\n",
    "#newimage1.shape\n",
    "result = cnn.predict(newimage)\n",
    "predicted_class = np.argmax(result)\n",
    "print(\"predicted digit\",predicted_class)\n",
    "print(\"prediction probablities:\",result)'''"
   ]
  },
  {
   "cell_type": "code",
   "execution_count": 22,
   "id": "037e94c8-4c76-4b7e-a63b-5ce5698f126a",
   "metadata": {},
   "outputs": [],
   "source": [
    "from PIL import Image"
   ]
  },
  {
   "cell_type": "code",
   "execution_count": 35,
   "id": "12ccdb51-1d8a-4584-8be7-f72185dd0c6d",
   "metadata": {},
   "outputs": [],
   "source": [
    "image_path = \"Sample_Images/sample_image.png\"\n",
    "image = Image.open(image_path).convert(\"L\")\n",
    "image = image.resize((28,28))\n",
    "image = np.array(image) / 255.0\n",
    "image = 1 - image"
   ]
  },
  {
   "cell_type": "code",
   "execution_count": 36,
   "id": "339c0585-aa45-4aa9-b8ef-49a96c327048",
   "metadata": {},
   "outputs": [
    {
     "name": "stdout",
     "output_type": "stream",
     "text": [
      "\u001b[1m1/1\u001b[0m \u001b[32m━━━━━━━━━━━━━━━━━━━━\u001b[0m\u001b[37m\u001b[0m \u001b[1m0s\u001b[0m 34ms/step\n"
     ]
    }
   ],
   "source": [
    "predictions = cnn.predict(image.reshape(1,28,28,1))"
   ]
  },
  {
   "cell_type": "code",
   "execution_count": 37,
   "id": "72d48d73-1e65-4cd9-b932-2671be5fd1aa",
   "metadata": {},
   "outputs": [],
   "source": [
    "predicted_digit = np.argmax(predictions)"
   ]
  },
  {
   "cell_type": "code",
   "execution_count": 38,
   "id": "60f97ea2-d6e3-4751-bdd3-633ef53364ef",
   "metadata": {},
   "outputs": [
    {
     "data": {
      "image/png": "[encoded data removed]",
      "text/plain": [
       "<Figure size 640x480 with 1 Axes>"
      ]
     },
     "metadata": {},
     "output_type": "display_data"
    },
    {
     "name": "stdout",
     "output_type": "stream",
     "text": [
      "Predicted Digit : 6\n"
     ]
    }
   ],
   "source": [
    "plt.imshow(image,cmap=\"gray\")\n",
    "plt.show()\n",
    "print(\"Predicted Digit :\",predicted_digit)"
   ]
  },
  {
   "cell_type": "code",
   "execution_count": null,
   "id": "8c5400f8-d49d-43e4-b65f-0714df698394",
   "metadata": {},
   "outputs": [],
   "source": []
  },
  {
   "cell_type": "code",
   "execution_count": null,
   "id": "10682118-4b00-4551-816f-83cfe27cbd1e",
   "metadata": {},
   "outputs": [],
   "source": []
  },
  {
   "cell_type": "code",
   "execution_count": null,
   "id": "453f9b40-857c-483e-a1a8-e46cd4ad2f26",
   "metadata": {},
   "outputs": [],
   "source": []
  },
  {
   "cell_type": "code",
   "execution_count": null,
   "id": "4740c17a-dc1a-4dc4-af6c-3ca165a80d74",
   "metadata": {},
   "outputs": [],
   "source": []
  },
  {
   "cell_type": "code",
   "execution_count": null,
   "id": "3c0b138a-eef3-4c98-b670-ff1c5a233945",
   "metadata": {},
   "outputs": [],
   "source": []
  },
  {
   "cell_type": "code",
   "execution_count": null,
   "id": "84443fe7-3824-40c3-a5a9-80209bdb780d",
   "metadata": {},
   "outputs": [],
   "source": []
  },
  {
   "cell_type": "code",
   "execution_count": null,
   "id": "66bb702a-50dd-40ca-8186-d9f973a9ad61",
   "metadata": {},
   "outputs": [],
   "source": []
  },
  {
   "cell_type": "code",
   "execution_count": null,
   "id": "5f4c5644-db6c-4a8f-8bff-13ccab07f20e",
   "metadata": {},
   "outputs": [],
   "source": []
  },
  {
   "cell_type": "code",
   "execution_count": null,
   "id": "c8ed9b99-e0bc-4639-abc8-9c2019101b8e",
   "metadata": {},
   "outputs": [],
   "source": []
  },
  {
   "cell_type": "code",
   "execution_count": null,
   "id": "c20b084e-98b3-4554-ade5-48adfe5929f6",
   "metadata": {},
   "outputs": [],
   "source": []
  },
  {
   "cell_type": "code",
   "execution_count": null,
   "id": "27dda33f-42cc-45df-885b-9e099a9e7c87",
   "metadata": {},
   "outputs": [],
   "source": []
  },
  {
   "cell_type": "code",
   "execution_count": null,
   "id": "d82180a0-3c72-4b4b-9c3f-a054eff6a4f6",
   "metadata": {},
   "outputs": [],
   "source": []
  },
  {
   "cell_type": "code",
   "execution_count": null,
   "id": "6baeac7a-c221-4bd7-8131-5cc278c29c51",
   "metadata": {},
   "outputs": [],
   "source": []
  },
  {
   "cell_type": "code",
   "execution_count": null,
   "id": "6fc3ba0e-38b4-4d1c-b706-a0c60ad83b79",
   "metadata": {},
   "outputs": [],
   "source": []
  },
  {
   "cell_type": "code",
   "execution_count": null,
   "id": "66a133bf-ce68-480b-a8dc-7ebf9824125a",
   "metadata": {},
   "outputs": [],
   "source": []
  },
  {
   "cell_type": "code",
   "execution_count": null,
   "id": "6f2fd7ea-1198-4c91-88cf-3012ac83598b",
   "metadata": {},
   "outputs": [],
   "source": []
  },
  {
   "cell_type": "code",
   "execution_count": null,
   "id": "ee4b7d9c-c239-48fc-946d-16afd4087d61",
   "metadata": {},
   "outputs": [],
   "source": []
  },
  {
   "cell_type": "code",
   "execution_count": null,
   "id": "1c86c9d4-aa71-4265-8d6e-7bd3cd4aec36",
   "metadata": {},
   "outputs": [],
   "source": []
  },
  {
   "cell_type": "code",
   "execution_count": null,
   "id": "fad0a030-36d9-4a87-b921-3897700ba6ba",
   "metadata": {},
   "outputs": [],
   "source": []
  },
  {
   "cell_type": "code",
   "execution_count": null,
   "id": "6674d97d-1885-4fc9-9b05-11f1851279f1",
   "metadata": {},
   "outputs": [],
   "source": []
  },
  {
   "cell_type": "code",
   "execution_count": null,
   "id": "63d1b1bb-719b-4e15-952b-1db016fb5aaa",
   "metadata": {},
   "outputs": [],
   "source": []
  },
  {
   "cell_type": "code",
   "execution_count": null,
   "id": "a1156676-b5c5-4485-92f7-d4fa34afff38",
   "metadata": {},
   "outputs": [],
   "source": []
  },
  {
   "cell_type": "code",
   "execution_count": null,
   "id": "e2f9d710-2a00-483e-b8ba-cce76a751a39",
   "metadata": {},
   "outputs": [],
   "source": []
  },
  {
   "cell_type": "code",
   "execution_count": null,
   "id": "fb87e119-2cda-4698-bbd5-fd82c8b4f5c2",
   "metadata": {},
   "outputs": [],
   "source": []
  },
  {
   "cell_type": "code",
   "execution_count": null,
   "id": "0f07318e-07ff-490e-9284-e74c4da6f3e6",
   "metadata": {},
   "outputs": [],
   "source": []
  },
  {
   "cell_type": "code",
   "execution_count": null,
   "id": "62619f9b-6d11-497d-b0f1-857187b55804",
   "metadata": {},
   "outputs": [],
   "source": []
  },
  {
   "cell_type": "code",
   "execution_count": null,
   "id": "6f7db8c9-98c5-4d8f-902e-94d908b11c17",
   "metadata": {},
   "outputs": [],
   "source": []
  },
  {
   "cell_type": "code",
   "execution_count": null,
   "id": "79364218-3888-4742-a172-8f53c7fa811e",
   "metadata": {},
   "outputs": [],
   "source": []
  },
  {
   "cell_type": "code",
   "execution_count": null,
   "id": "e2f62b89-a41b-4424-ba8e-1a420ee485f3",
   "metadata": {},
   "outputs": [],
   "source": []
  },
  {
   "cell_type": "code",
   "execution_count": null,
   "id": "bbc5742f-877f-418e-8f77-426e2759db0e",
   "metadata": {},
   "outputs": [],
   "source": []
  },
  {
   "cell_type": "code",
   "execution_count": null,
   "id": "de00ec80-1e2e-4226-a39f-486ae8e5ecb2",
   "metadata": {},
   "outputs": [],
   "source": []
  },
  {
   "cell_type": "code",
   "execution_count": null,
   "id": "7bc5d2e4-7f0e-4ddf-b627-11872a4be056",
   "metadata": {},
   "outputs": [],
   "source": []
  }
 ],
 "metadata": {
  "kernelspec": {
   "display_name": "Python 3 (ipykernel)",
   "language": "python",
   "name": "python3"
  },
  "language_info": {
   "codemirror_mode": {
    "name": "ipython",
    "version": 3
   },
   "file_extension": ".py",
   "mimetype": "text/x-python",
   "name": "python",
   "nbconvert_exporter": "python",
   "pygments_lexer": "ipython3",
   "version": "3.11.5"
  }
 },
 "nbformat": 4,
 "nbformat_minor": 5
}
